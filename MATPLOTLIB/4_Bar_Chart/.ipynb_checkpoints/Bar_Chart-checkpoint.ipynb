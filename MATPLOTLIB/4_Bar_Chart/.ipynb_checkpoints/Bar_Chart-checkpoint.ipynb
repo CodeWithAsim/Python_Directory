{
 "cells": [
  {
   "cell_type": "markdown",
   "id": "1c712375",
   "metadata": {},
   "source": [
    "# Bar Charts"
   ]
  },
  {
   "cell_type": "markdown",
   "id": "ee0425cc",
   "metadata": {},
   "source": [
    "In finance barcharts are used to represent the measure by bars "
   ]
  },
  {
   "cell_type": "code",
   "execution_count": 2,
   "id": "4eabd078",
   "metadata": {},
   "outputs": [],
   "source": [
    "import pandas as pd\n",
    "import numpy as np\n",
    "import matplotlib.pyplot as plt"
   ]
  },
  {
   "cell_type": "code",
   "execution_count": 3,
   "id": "a7283f81",
   "metadata": {},
   "outputs": [],
   "source": [
    "company=[\"GOOGL\",\"AMZN\",\"FB\",\"MSFT\"]\n",
    "revenue=[78,45,34,87]\n",
    "profit=[12,7,5,15]"
   ]
  },
  {
   "cell_type": "markdown",
   "id": "55a50b59",
   "metadata": {},
   "source": [
    "# Vertical Bars"
   ]
  },
  {
   "cell_type": "code",
   "execution_count": 4,
   "id": "228e0a0c",
   "metadata": {
    "scrolled": true
   },
   "outputs": [
    {
     "data": {
      "text/plain": [
       "<BarContainer object of 4 artists>"
      ]
     },
     "execution_count": 4,
     "metadata": {},
     "output_type": "execute_result"
    },
    {
     "data": {
      "image/png": "[encoded data removed]",
      "text/plain": [
       "<Figure size 432x288 with 1 Axes>"
      ]
     },
     "metadata": {
      "needs_background": "light"
     },
     "output_type": "display_data"
    }
   ],
   "source": [
    "plt.bar(company,revenue) # Ab bar chart k liye numeric value zroori so "
   ]
  },
  {
   "cell_type": "code",
   "execution_count": 6,
   "id": "8bf1ae3a",
   "metadata": {},
   "outputs": [
    {
     "data": {
      "text/plain": [
       "array([0, 1, 2, 3])"
      ]
     },
     "execution_count": 6,
     "metadata": {},
     "output_type": "execute_result"
    }
   ],
   "source": [
    "xpos=np.arange(len(company))\n",
    "xpos"
   ]
  },
  {
   "cell_type": "code",
   "execution_count": 7,
   "id": "28c52dec",
   "metadata": {},
   "outputs": [
    {
     "data": {
      "text/plain": [
       "<BarContainer object of 4 artists>"
      ]
     },
     "execution_count": 7,
     "metadata": {},
     "output_type": "execute_result"
    },
    {
     "data": {
      "image/png": "[encoded data removed]",
      "text/plain": [
       "<Figure size 432x288 with 1 Axes>"
      ]
     },
     "metadata": {
      "needs_background": "light"
     },
     "output_type": "display_data"
    }
   ],
   "source": [
    "plt.bar(xpos,revenue) "
   ]
  },
  {
   "cell_type": "code",
   "execution_count": 8,
   "id": "b4cc1aad",
   "metadata": {},
   "outputs": [
    {
     "data": {
      "text/plain": [
       "<BarContainer object of 4 artists>"
      ]
     },
     "execution_count": 8,
     "metadata": {},
     "output_type": "execute_result"
    },
    {
     "data": {
      "image/png": "[encoded data removed]",
      "text/plain": [
       "<Figure size 432x288 with 1 Axes>"
      ]
     },
     "metadata": {
      "needs_background": "light"
     },
     "output_type": "display_data"
    }
   ],
   "source": [
    "plt.xticks(xpos,company)\n",
    "plt.bar(xpos,revenue) "
   ]
  },
  {
   "cell_type": "code",
   "execution_count": 9,
   "id": "8e99ff05",
   "metadata": {},
   "outputs": [
    {
     "data": {
      "text/plain": [
       "<BarContainer object of 4 artists>"
      ]
     },
     "execution_count": 9,
     "metadata": {},
     "output_type": "execute_result"
    },
    {
     "data": {
      "image/png": "[encoded data removed]",
      "text/plain": [
       "<Figure size 432x288 with 1 Axes>"
      ]
     },
     "metadata": {
      "needs_background": "light"
     },
     "output_type": "display_data"
    }
   ],
   "source": [
    "plt.xticks(xpos,company)\n",
    "plt.bar(xpos,revenue) \n",
    "plt.bar(xpos,profit)"
   ]
  },
  {
   "cell_type": "markdown",
   "id": "8ce9e18d",
   "metadata": {},
   "source": [
    "**But now the problem is that the bars are not separate**"
   ]
  },
  {
   "cell_type": "code",
   "execution_count": 10,
   "id": "49594d46",
   "metadata": {},
   "outputs": [
    {
     "data": {
      "text/plain": [
       "<BarContainer object of 4 artists>"
      ]
     },
     "execution_count": 10,
     "metadata": {},
     "output_type": "execute_result"
    },
    {
     "data": {
      "image/png": "[encoded data removed]",
      "text/plain": [
       "<Figure size 432x288 with 1 Axes>"
      ]
     },
     "metadata": {
      "needs_background": "light"
     },
     "output_type": "display_data"
    }
   ],
   "source": [
    "plt.xticks(xpos,company)\n",
    "plt.bar(xpos-0.2,revenue)  # Is wajah se array bnai thi warna simple list bhi bna skte thy lakin numpy arrays subtract easily so ,\n",
    "plt.bar(xpos+0.2,profit)"
   ]
  },
  {
   "cell_type": "code",
   "execution_count": 12,
   "id": "d6b54ad2",
   "metadata": {},
   "outputs": [
    {
     "data": {
      "text/plain": [
       "<BarContainer object of 4 artists>"
      ]
     },
     "execution_count": 12,
     "metadata": {},
     "output_type": "execute_result"
    },
    {
     "data": {
      "image/png": "[encoded data removed]",
      "text/plain": [
       "<Figure size 432x288 with 1 Axes>"
      ]
     },
     "metadata": {
      "needs_background": "light"
     },
     "output_type": "display_data"
    }
   ],
   "source": [
    "plt.xticks(xpos,company)\n",
    "plt.bar(xpos-0.2,revenue,width=0.4)  # Is wajah se array bnai thi warna simple list bhi bna skte thy lakin numpy arrays subtract easily so ,\n",
    "plt.bar(xpos+0.2,profit,width=0.4)"
   ]
  },
  {
   "cell_type": "code",
   "execution_count": 16,
   "id": "3e9c0ac1",
   "metadata": {},
   "outputs": [
    {
     "data": {
      "text/plain": [
       "<matplotlib.legend.Legend at 0x228dc8f8040>"
      ]
     },
     "execution_count": 16,
     "metadata": {},
     "output_type": "execute_result"
    },
    {
     "data": {
      "image/png": "[encoded data removed]",
      "text/plain": [
       "<Figure size 432x288 with 1 Axes>"
      ]
     },
     "metadata": {
      "needs_background": "light"
     },
     "output_type": "display_data"
    }
   ],
   "source": [
    "# plt.xlabel() tw phle se company show \n",
    "plt.ylabel(\"Billion Dollar\")\n",
    "plt.title(\"Tech Stocks\")\n",
    "plt.xticks(xpos,company)\n",
    "plt.bar(xpos-0.2,revenue,width=0.4,label=\"Revenue\")  # Is wajah se array bnai thi warna simple list bhi bna skte thy lakin numpy arrays subtract easily so ,\n",
    "plt.bar(xpos+0.2,profit,width=0.4,label=\"Profit\")\n",
    "plt.legend()"
   ]
  },
  {
   "cell_type": "markdown",
   "id": "a3b148a1",
   "metadata": {},
   "source": [
    "**Now if we have  to draw the graph horizontaly**"
   ]
  },
  {
   "cell_type": "markdown",
   "id": "5d4b12bd",
   "metadata": {},
   "source": [
    "# Horizontal Bars"
   ]
  },
  {
   "cell_type": "markdown",
   "id": "61ecf98c",
   "metadata": {},
   "source": [
    "In horizontal bars , x and y wahein pari rehne deni un ki tarteeb ni change krni hai aur ye kam barh() khudi manage "
   ]
  },
  {
   "cell_type": "code",
   "execution_count": 24,
   "id": "30d2b308",
   "metadata": {},
   "outputs": [
    {
     "data": {
      "text/plain": [
       "<matplotlib.legend.Legend at 0x228dcdbdaf0>"
      ]
     },
     "execution_count": 24,
     "metadata": {},
     "output_type": "execute_result"
    },
    {
     "data": {
      "image/png": "[encoded data removed]",
      "text/plain": [
       "<Figure size 432x288 with 1 Axes>"
      ]
     },
     "metadata": {
      "needs_background": "light"
     },
     "output_type": "display_data"
    }
   ],
   "source": [
    "plt.xlabel(\"Billion Dollar\")\n",
    "plt.title(\"Tech Stocks\")\n",
    "plt.yticks(xpos,company)\n",
    "plt.barh(xpos-0.2,revenue,height=0.4,label=\"Revenue\") \n",
    "plt.barh(xpos+0.2,profit,height=0.4,label=\"Profit\") # Ab ki bar height rakhni pare gi  \n",
    "plt.legend()"
   ]
  },
  {
   "cell_type": "code",
   "execution_count": null,
   "id": "9f2e1784",
   "metadata": {},
   "outputs": [],
   "source": []
  }
 ],
 "metadata": {
  "kernelspec": {
   "display_name": "Python 3 (ipykernel)",
   "language": "python",
   "name": "python3"
  },
  "language_info": {
   "codemirror_mode": {
    "name": "ipython",
    "version": 3
   },
   "file_extension": ".py",
   "mimetype": "text/x-python",
   "name": "python",
   "nbconvert_exporter": "python",
   "pygments_lexer": "ipython3",
   "version": "3.9.7"
  }
 },
 "nbformat": 4,
 "nbformat_minor": 5
}
