{
 "cells": [
  {
   "cell_type": "markdown",
   "id": "617d7944",
   "metadata": {},
   "source": [
    "# K FOLD CROSS VALIDATION"
   ]
  },
  {
   "cell_type": "markdown",
   "id": "5c43913e",
   "metadata": {},
   "source": [
    "Asal mai ab hamare pas 4 models hai for classfication types problems ... Logistic , Dicision , SVM , Random Forest ... Ab jab problem aye gi machine learning ki tw kya hum sare laga kr dekhe gy kya kh kon sa best hai in score (accuracy) ... Aur wo jo accuracy in train test split wo fixed ni bar bar sample change aur train agr algebra pe aur sawal calculus pr aa jae tw phir sae ni accuracy ... so make n folds of sample and in each folds some sample equally distributed and then iteratively 1 fold for test remaining for train upto last made the test and upward remaing are made train ... Phir sab ke score aye gy n folds ke ... un ki average wo score ... Agr ye kam for sare models tw jis ka high wo best for the problem "
   ]
  },
  {
   "cell_type": "code",
   "execution_count": 1,
   "id": "17f560b0",
   "metadata": {},
   "outputs": [],
   "source": [
    "import pandas as pd\n",
    "import numpy as np"
   ]
  },
  {
   "cell_type": "code",
   "execution_count": 2,
   "id": "1d9feb9f",
   "metadata": {},
   "outputs": [],
   "source": [
    "from sklearn.datasets import load_digits"
   ]
  },
  {
   "cell_type": "code",
   "execution_count": 49,
   "id": "749ad1d0",
   "metadata": {},
   "outputs": [],
   "source": [
    "digits=load_digits()"
   ]
  },
  {
   "cell_type": "code",
   "execution_count": 4,
   "id": "7d621eba",
   "metadata": {},
   "outputs": [
    {
     "data": {
      "text/plain": [
       "['DESCR', 'data', 'feature_names', 'frame', 'images', 'target', 'target_names']"
      ]
     },
     "execution_count": 4,
     "metadata": {},
     "output_type": "execute_result"
    }
   ],
   "source": [
    "dir(digits) # lets see the properties of this data set"
   ]
  },
  {
   "cell_type": "code",
   "execution_count": 5,
   "id": "3f146435",
   "metadata": {},
   "outputs": [],
   "source": [
    "from sklearn.model_selection import train_test_split"
   ]
  },
  {
   "cell_type": "code",
   "execution_count": 31,
   "id": "c79e36a0",
   "metadata": {},
   "outputs": [],
   "source": [
    "X_train, X_test, y_train, y_test = train_test_split(digits.data,digits.target,test_size=0.2)"
   ]
  },
  {
   "cell_type": "code",
   "execution_count": 7,
   "id": "bf114aea",
   "metadata": {},
   "outputs": [
    {
     "data": {
      "text/plain": [
       "1437"
      ]
     },
     "execution_count": 7,
     "metadata": {},
     "output_type": "execute_result"
    }
   ],
   "source": [
    "len(X_train)"
   ]
  },
  {
   "cell_type": "code",
   "execution_count": 8,
   "id": "0361e794",
   "metadata": {},
   "outputs": [
    {
     "data": {
      "text/plain": [
       "360"
      ]
     },
     "execution_count": 8,
     "metadata": {},
     "output_type": "execute_result"
    }
   ],
   "source": [
    "len(X_test)"
   ]
  },
  {
   "cell_type": "markdown",
   "id": "4c0e28c4",
   "metadata": {},
   "source": [
    "Abhi bari bari sab k liye score"
   ]
  },
  {
   "cell_type": "code",
   "execution_count": 32,
   "id": "1f5ccac1",
   "metadata": {},
   "outputs": [
    {
     "data": {
      "text/plain": [
       "0.9638888888888889"
      ]
     },
     "execution_count": 32,
     "metadata": {},
     "output_type": "execute_result"
    }
   ],
   "source": [
    "from sklearn.linear_model import LogisticRegression\n",
    "lr = LogisticRegression(max_iter=3500)\n",
    "lr.fit(X_train,y_train)\n",
    "lr.score(X_test,y_test)"
   ]
  },
  {
   "cell_type": "code",
   "execution_count": 33,
   "id": "f1ff3e75",
   "metadata": {},
   "outputs": [
    {
     "data": {
      "text/plain": [
       "0.9888888888888889"
      ]
     },
     "execution_count": 33,
     "metadata": {},
     "output_type": "execute_result"
    }
   ],
   "source": [
    "from sklearn.svm import SVC\n",
    "sv = SVC()\n",
    "sv.fit(X_train,y_train)\n",
    "sv.score(X_test,y_test)"
   ]
  },
  {
   "cell_type": "code",
   "execution_count": 38,
   "id": "2bc4cb17",
   "metadata": {},
   "outputs": [
    {
     "data": {
      "text/plain": [
       "0.9777777777777777"
      ]
     },
     "execution_count": 38,
     "metadata": {},
     "output_type": "execute_result"
    }
   ],
   "source": [
    "from sklearn.ensemble import RandomForestClassifier\n",
    "rf = RandomForestClassifier(n_estimators=30)\n",
    "rf.fit(X_train,y_train)\n",
    "rf.score(X_test,y_test)"
   ]
  },
  {
   "cell_type": "markdown",
   "id": "647f1e41",
   "metadata": {},
   "source": [
    "Ab modularity le aye code mai ... Is function ke through kisi bhi ka score find kr skte"
   ]
  },
  {
   "cell_type": "code",
   "execution_count": 39,
   "id": "fdf1d5c9",
   "metadata": {},
   "outputs": [],
   "source": [
    "def get_score(model,X_train, X_test, y_train, y_test):\n",
    "    model.fit(X_train,y_train)\n",
    "    print(\"Score is :\",model.score(X_test,y_test))"
   ]
  },
  {
   "cell_type": "markdown",
   "id": "82683bb9",
   "metadata": {},
   "source": [
    "**Function calling**"
   ]
  },
  {
   "cell_type": "code",
   "execution_count": 40,
   "id": "c6d9fc58",
   "metadata": {},
   "outputs": [
    {
     "name": "stdout",
     "output_type": "stream",
     "text": [
      "Score is : 0.975\n"
     ]
    }
   ],
   "source": [
    "get_score(RandomForestClassifier(n_estimators=30),X_train, X_test, y_train, y_test)"
   ]
  },
  {
   "cell_type": "code",
   "execution_count": 41,
   "id": "10f0c9af",
   "metadata": {},
   "outputs": [
    {
     "name": "stdout",
     "output_type": "stream",
     "text": [
      "Score is : 0.9888888888888889\n"
     ]
    }
   ],
   "source": [
    "get_score(SVC(),X_train, X_test, y_train, y_test)"
   ]
  },
  {
   "cell_type": "code",
   "execution_count": 42,
   "id": "19aa7b78",
   "metadata": {},
   "outputs": [
    {
     "name": "stdout",
     "output_type": "stream",
     "text": [
      "Score is : 0.9638888888888889\n"
     ]
    }
   ],
   "source": [
    "get_score(LogisticRegression(max_iter=3500),X_train, X_test, y_train, y_test)"
   ]
  },
  {
   "cell_type": "markdown",
   "id": "1f300179",
   "metadata": {},
   "source": [
    "**Ab lets see the internal of K folds**"
   ]
  },
  {
   "cell_type": "code",
   "execution_count": 43,
   "id": "3fdba435",
   "metadata": {},
   "outputs": [],
   "source": [
    "from sklearn.model_selection import KFold"
   ]
  },
  {
   "cell_type": "code",
   "execution_count": 45,
   "id": "4d9fa125",
   "metadata": {},
   "outputs": [
    {
     "data": {
      "text/plain": [
       "KFold(n_splits=3, random_state=None, shuffle=False)"
      ]
     },
     "execution_count": 45,
     "metadata": {},
     "output_type": "execute_result"
    }
   ],
   "source": [
    "kf = KFold(n_splits=3) # making folds ... people usually go with 10 folds\n",
    "kf"
   ]
  },
  {
   "cell_type": "code",
   "execution_count": 46,
   "id": "d27f0122",
   "metadata": {},
   "outputs": [
    {
     "name": "stdout",
     "output_type": "stream",
     "text": [
      "For iteration  1  -> TRAIN SET : [3 4 5 6 7 8]  --- TEST SET : [0 1 2]\n",
      "For iteration  2  -> TRAIN SET : [0 1 2 6 7 8]  --- TEST SET : [3 4 5]\n",
      "For iteration  3  -> TRAIN SET : [0 1 2 3 4 5]  --- TEST SET : [6 7 8]\n"
     ]
    }
   ],
   "source": [
    "i=1 # Function for visualizig the way kfols splits the sample into folds and then into train and test portion\n",
    "for train_index,test_index in kf.split([1,2,3,4,5,6,7,8,9]):  # kf.split ... is mai iterater aur wo run the loop\n",
    "    print(\"For iteration \",i,\" -> TRAIN SET :\",train_index,\" --- TEST SET :\",test_index) # its return the index no. of data not the original data\n",
    "    i=i+1"
   ]
  },
  {
   "cell_type": "code",
   "execution_count": null,
   "id": "2ff766e2",
   "metadata": {},
   "outputs": [],
   "source": [
    "# we should use StratifiedFolds ... from sklearn.model_selection import StratifiedFolds ... folds = StratifiedFolds(n_splits=3) # making folds ... people usually go with 10 folds "
   ]
  },
  {
   "cell_type": "code",
   "execution_count": 47,
   "id": "275a4aee",
   "metadata": {},
   "outputs": [],
   "source": [
    "kf = KFold(n_splits=3) # Now doing the same work with the original data"
   ]
  },
  {
   "cell_type": "code",
   "execution_count": 56,
   "id": "22f31ca2",
   "metadata": {},
   "outputs": [
    {
     "name": "stdout",
     "output_type": "stream",
     "text": [
      "Score is : 0.9282136894824707\n",
      "Score is : 0.9415692821368948\n",
      "Score is : 0.9165275459098498\n"
     ]
    }
   ],
   "source": [
    "for train_index,test_index in kf.split(digits.data): # train index mai se xtrain and ytrian nikalne ... same kam for test index\n",
    "    get_score(LogisticRegression(max_iter=3500),digits.data[train_index],digits.data[test_index],digits.target[train_index],digits.target[test_index])"
   ]
  },
  {
   "cell_type": "code",
   "execution_count": 61,
   "id": "f330241b",
   "metadata": {},
   "outputs": [
    {
     "name": "stdout",
     "output_type": "stream",
     "text": [
      "Score is : 0.9282136894824707\n",
      "Score is : 0.9415692821368948\n",
      "Score is : 0.9165275459098498\n"
     ]
    }
   ],
   "source": [
    "for train_index,test_index in kf.split(digits.data): # uper wale cell ka kam is tarah bhi kr skte hain  # ( \\ ) is the line continuation symbol\n",
    "    X_train, X_test, y_train, y_test = digits.data[train_index],digits.data[test_index], \\\n",
    "                                       digits.target[train_index],digits.target[test_index]\n",
    "    get_score(LogisticRegression(max_iter=3500),X_train, X_test, y_train, y_test)"
   ]
  },
  {
   "cell_type": "code",
   "execution_count": 62,
   "id": "1673ac7a",
   "metadata": {},
   "outputs": [
    {
     "name": "stdout",
     "output_type": "stream",
     "text": [
      "Score is : 0.9282136894824707\n",
      "Score is : 0.9666110183639399\n",
      "Score is : 0.9131886477462438\n",
      "Score is : 0.9415692821368948\n",
      "Score is : 0.9816360601001669\n",
      "Score is : 0.9582637729549248\n",
      "Score is : 0.9165275459098498\n",
      "Score is : 0.9549248747913188\n",
      "Score is : 0.8981636060100167\n"
     ]
    }
   ],
   "source": [
    "for train_index,test_index in kf.split(digits.data):\n",
    "    X_train, X_test, y_train, y_test = digits.data[train_index],digits.data[test_index], \\\n",
    "                                       digits.target[train_index],digits.target[test_index]\n",
    "    get_score(LogisticRegression(max_iter=3500),X_train, X_test, y_train, y_test)\n",
    "    get_score(SVC(),X_train, X_test, y_train, y_test)\n",
    "    get_score(RandomForestClassifier(n_estimators=30),X_train, X_test, y_train, y_test)"
   ]
  },
  {
   "cell_type": "code",
   "execution_count": 70,
   "id": "a9fcc3f4",
   "metadata": {},
   "outputs": [],
   "source": [
    "logistic_regression_scores = [] # 3 list for appending in them the scores correspondingly\n",
    "svc_scores = []\n",
    "rfc_scores = []"
   ]
  },
  {
   "cell_type": "code",
   "execution_count": 72,
   "id": "210ea89a",
   "metadata": {},
   "outputs": [],
   "source": [
    "def get_score(model,X_train, X_test, y_train, y_test):\n",
    "    model.fit(X_train,y_train)      # return ... for score mile tw hi tw append\n",
    "    return model.score(X_test,y_test)"
   ]
  },
  {
   "cell_type": "code",
   "execution_count": 73,
   "id": "d57146a9",
   "metadata": {},
   "outputs": [],
   "source": [
    "for train_index,test_index in kf.split(digits.data):\n",
    "    X_train, X_test, y_train, y_test = digits.data[train_index],digits.data[test_index], \\\n",
    "                                       digits.target[train_index],digits.target[test_index]\n",
    "    logistic_regression_scores.append(get_score(LogisticRegression(max_iter=3500),X_train, X_test, y_train, y_test))\n",
    "    svc_scores.append(get_score(SVC(),X_train, X_test, y_train, y_test))\n",
    "    rfc_scores.append(get_score(RandomForestClassifier(n_estimators=30),X_train, X_test, y_train, y_test))"
   ]
  },
  {
   "cell_type": "code",
   "execution_count": 74,
   "id": "884b1e0e",
   "metadata": {},
   "outputs": [
    {
     "data": {
      "text/plain": [
       "[0.9282136894824707, 0.9415692821368948, 0.9165275459098498]"
      ]
     },
     "execution_count": 74,
     "metadata": {},
     "output_type": "execute_result"
    }
   ],
   "source": [
    "logistic_regression_scores"
   ]
  },
  {
   "cell_type": "code",
   "execution_count": 75,
   "id": "13d44970",
   "metadata": {},
   "outputs": [
    {
     "data": {
      "text/plain": [
       "[0.9666110183639399, 0.9816360601001669, 0.9549248747913188]"
      ]
     },
     "execution_count": 75,
     "metadata": {},
     "output_type": "execute_result"
    }
   ],
   "source": [
    "svc_scores"
   ]
  },
  {
   "cell_type": "code",
   "execution_count": 76,
   "id": "f098739f",
   "metadata": {},
   "outputs": [
    {
     "data": {
      "text/plain": [
       "[0.9298831385642737, 0.9499165275459098, 0.9232053422370617]"
      ]
     },
     "execution_count": 76,
     "metadata": {},
     "output_type": "execute_result"
    }
   ],
   "source": [
    "rfc_scores"
   ]
  },
  {
   "cell_type": "code",
   "execution_count": 78,
   "id": "ee2d968e",
   "metadata": {},
   "outputs": [
    {
     "data": {
      "text/plain": [
       "0.9343350027824151"
      ]
     },
     "execution_count": 78,
     "metadata": {},
     "output_type": "execute_result"
    }
   ],
   "source": [
    "np.array(rfc_scores).mean() "
   ]
  },
  {
   "cell_type": "code",
   "execution_count": 80,
   "id": "5b95d909",
   "metadata": {},
   "outputs": [],
   "source": [
    "from sklearn.model_selection import cross_val_score   # Ab sklearn ye kam krne ke liye hamein library provide ... ye internal smjh lein bs lakin krni ni ... direct neeche wala method call "
   ]
  },
  {
   "cell_type": "code",
   "execution_count": null,
   "id": "15383884",
   "metadata": {},
   "outputs": [],
   "source": [
    "# classifier is liye khete bcz they classify among the categorical var "
   ]
  },
  {
   "cell_type": "code",
   "execution_count": 82,
   "id": "2273cff7",
   "metadata": {},
   "outputs": [
    {
     "data": {
      "text/plain": [
       "array([0.925     , 0.87777778, 0.93871866, 0.93314763, 0.89693593])"
      ]
     },
     "execution_count": 82,
     "metadata": {},
     "output_type": "execute_result"
    }
   ],
   "source": [
    "cross_val_score(LogisticRegression(max_iter=4500),digits.data,digits.target) # 1 param = classifier , 2 = x , 3 = y"
   ]
  },
  {
   "cell_type": "code",
   "execution_count": 83,
   "id": "accc5fb7",
   "metadata": {},
   "outputs": [
    {
     "data": {
      "text/plain": [
       "array([0.96111111, 0.94444444, 0.98328691, 0.98885794, 0.93871866])"
      ]
     },
     "execution_count": 83,
     "metadata": {},
     "output_type": "execute_result"
    }
   ],
   "source": [
    "cross_val_score(SVC(),digits.data,digits.target)"
   ]
  },
  {
   "cell_type": "code",
   "execution_count": 86,
   "id": "763bdba7",
   "metadata": {},
   "outputs": [
    {
     "data": {
      "text/plain": [
       "array([0.925     , 0.90277778, 0.94986072, 0.94150418, 0.92200557])"
      ]
     },
     "execution_count": 86,
     "metadata": {},
     "output_type": "execute_result"
    }
   ],
   "source": [
    "cross_val_score(RandomForestClassifier(n_estimators=30),digits.data,digits.target)"
   ]
  },
  {
   "cell_type": "code",
   "execution_count": 88,
   "id": "9b5acfb5",
   "metadata": {},
   "outputs": [
    {
     "data": {
      "text/plain": [
       "array([0.93823038, 0.94323873, 0.92821369])"
      ]
     },
     "execution_count": 88,
     "metadata": {},
     "output_type": "execute_result"
    }
   ],
   "source": [
    "cross_val_score(RandomForestClassifier(n_estimators=30),digits.data,digits.target,cv=3)"
   ]
  },
  {
   "cell_type": "markdown",
   "id": "b050abae",
   "metadata": {},
   "source": [
    "So now you can come up with that which classifier is best for your given proble"
   ]
  },
  {
   "cell_type": "markdown",
   "id": "75efb99e",
   "metadata": {},
   "source": [
    "**Do the same thing Evalutaing the score ( K FOLD CROSS VALIDATION ) for IRIS data set**"
   ]
  }
 ],
 "metadata": {
  "kernelspec": {
   "display_name": "Python 3 (ipykernel)",
   "language": "python",
   "name": "python3"
  },
  "language_info": {
   "codemirror_mode": {
    "name": "ipython",
    "version": 3
   },
   "file_extension": ".py",
   "mimetype": "text/x-python",
   "name": "python",
   "nbconvert_exporter": "python",
   "pygments_lexer": "ipython3",
   "version": "3.9.7"
  }
 },
 "nbformat": 4,
 "nbformat_minor": 5
}
